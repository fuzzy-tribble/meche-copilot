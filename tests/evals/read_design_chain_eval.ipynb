{
 "cells": [
  {
   "cell_type": "markdown",
   "id": "1d2e1a7c-9a82-4aff-9d85-23e4529d05d1",
   "metadata": {},
   "source": [
    "# ReadDesignChain LLM Eval"
   ]
  },
  {
   "cell_type": "code",
   "execution_count": null,
   "id": "dcef101e-a335-4897-9eb2-ff1e93e67af7",
   "metadata": {},
   "outputs": [],
   "source": [
    "%load_ext autoreload\n",
    "%autoreload all"
   ]
  },
  {
   "cell_type": "markdown",
   "id": "404c59e1-ada4-42c2-b10e-db0255f360ed",
   "metadata": {},
   "source": [
    "## Run the chain"
   ]
  },
  {
   "cell_type": "code",
   "execution_count": null,
   "id": "69b5035e-be22-46d4-94b6-e4e4465ab093",
   "metadata": {},
   "outputs": [],
   "source": [
    "from meche_copilot.schemas import *\n",
    "from meche_copilot.chains.read_design_chain import ReadDesignChain\n",
    "from meche_copilot.utils.config import load_config, find_config\n",
    "from langchain.callbacks import StdOutCallbackHandler"
   ]
  },
  {
   "cell_type": "code",
   "execution_count": null,
   "id": "2fe4250b-a459-4e0f-9c22-a935f5cc27ff",
   "metadata": {},
   "outputs": [],
   "source": [
    "config = SessionConfig.from_yaml(find_config('/workspaces/meche-copilot/session-config.yaml'))\n",
    "sess = Session.from_config(config=config)"
   ]
  },
  {
   "cell_type": "code",
   "execution_count": null,
   "id": "7726c86f-52d9-4145-a621-df01f892025f",
   "metadata": {},
   "outputs": [],
   "source": [
    "chain = ReadDesignChain()\n",
    "chain.design_data_cache"
   ]
  },
  {
   "cell_type": "code",
   "execution_count": null,
   "id": "3754ff8b-8663-49ae-8703-318d63d4f615",
   "metadata": {},
   "outputs": [],
   "source": [
    "# SHOULD FAIL - NOT IMPLEMENTED\n",
    "# chain.read_design_drawings(scoped_eq=sess.equipments)"
   ]
  },
  {
   "cell_type": "code",
   "execution_count": null,
   "id": "8595097c-8356-4205-b2d7-6c064dc8c7d9",
   "metadata": {},
   "outputs": [],
   "source": [
    "# show your work so we can eval camelot plots and such\n",
    "design_schedules = chain.read_design_schedules(scoped_eq=sess.equipments, show_your_work=True)"
   ]
  },
  {
   "cell_type": "markdown",
   "id": "88a825e7-3ed6-4fc9-a10d-cb1128adc702",
   "metadata": {},
   "source": [
    "## Did LLM select the correct schedules from the design ref docs provided?"
   ]
  },
  {
   "cell_type": "markdown",
   "id": "f80dc4b9",
   "metadata": {},
   "source": [
    "should find a lot but scope 4"
   ]
  },
  {
   "cell_type": "code",
   "execution_count": null,
   "id": "0cb84520-62ac-49c3-8da6-d8ca2f2f57a0",
   "metadata": {},
   "outputs": [],
   "source": [
    "from meche_copilot.utils.converters import pydantic_from_jsonl\n",
    "all_scheds = pydantic_from_jsonl(chain.design_data_cache / '1_all_design_schedules.jsonl', EngineeringDesignSchedule)\n",
    "len(all_scheds)"
   ]
  },
  {
   "cell_type": "code",
   "execution_count": null,
   "id": "465fe188-0632-47de-8612-5ad311d313b7",
   "metadata": {},
   "outputs": [],
   "source": [
    "scoped_scheds = pydantic_from_jsonl(chain.design_data_cache / '2_scoped_design_schedules_with_titles.jsonl', EngineeringDesignSchedule)\n",
    "len(scoped_scheds)"
   ]
  },
  {
   "cell_type": "code",
   "execution_count": null,
   "id": "c0fc7d3a-346f-4479-b578-26c1a57643fb",
   "metadata": {},
   "outputs": [],
   "source": [
    "for i, eds in enumerate(scoped_scheds):\n",
    "    print(i, eds.equipment_name, eds.title)"
   ]
  },
  {
   "cell_type": "code",
   "execution_count": null,
   "id": "4153e152",
   "metadata": {},
   "outputs": [],
   "source": [
    "import pandas as pd\n",
    "from meche_copilot.utils.converters import title_to_filename\n",
    "fname = title_to_filename(scoped_scheds[0].title)\n",
    "result_decision_matrix = pd.read_csv(chain.design_data_cache / f\"{fname}_results.csv\", index_col=0)\n",
    "result_decision_matrix"
   ]
  },
  {
   "cell_type": "code",
   "execution_count": null,
   "id": "f6922e41",
   "metadata": {},
   "outputs": [],
   "source": [
    "df = pd.read_parquet(chain.design_data_cache / f\"{fname}.parquet\")\n",
    "df"
   ]
  },
  {
   "cell_type": "markdown",
   "id": "1546a7af",
   "metadata": {},
   "source": [
    "## Did camelot select the right table rects and get the right data for each schedule?"
   ]
  },
  {
   "cell_type": "code",
   "execution_count": null,
   "id": "e1a1c928",
   "metadata": {},
   "outputs": [],
   "source": [
    "from meche_copilot.utils.envars import DATA_CACHE\n",
    "camelot_plots_fpaths = [f for f in Path(DATA_CACHE / 'camelot_plots').glob('*.png')]\n",
    "camelot_plots_fpaths"
   ]
  },
  {
   "cell_type": "code",
   "execution_count": null,
   "id": "2431c891",
   "metadata": {},
   "outputs": [],
   "source": [
    "from meche_copilot.utils.converters import title_to_filename\n",
    "from helpers import display_images_mpl\n",
    "class Results:\n",
    "    def __init__(self, title, df, image_fpaths):\n",
    "        self.title = title\n",
    "        self.fname = title_to_filename(title)\n",
    "        self.df = df\n",
    "        self.image_fpaths = image_fpaths\n",
    "\n",
    "    def show_images(self):\n",
    "        display_images_mpl(self.image_fpaths, width=6, height=4)\n",
    "\n",
    "res = []\n",
    "for eds in scoped_scheds:\n",
    "    fname = title_to_filename(eds.title)\n",
    "    df_fpath = chain.design_data_cache / f'{fname}.parquet'\n",
    "    df = None\n",
    "    if df_fpath.exists():\n",
    "        df = pd.read_parquet(chain.design_data_cache / f'{fname}.parquet')\n",
    "    image_fpaths = []\n",
    "    for cam_fname in camelot_plots_fpaths:\n",
    "        if str(cam_fname.name).startswith(str(fname)):\n",
    "            image_fpaths.append(cam_fname)\n",
    "    res.append(Results(eds.title, df, image_fpaths))"
   ]
  },
  {
   "cell_type": "code",
   "execution_count": null,
   "id": "84241940",
   "metadata": {},
   "outputs": [],
   "source": [
    "i = 0\n",
    "print(res[i].title)\n",
    "print(res[i].show_images())\n",
    "res[i].df"
   ]
  },
  {
   "cell_type": "markdown",
   "id": "3816390d",
   "metadata": {},
   "source": [
    "## How well does the combiner combine schedule results?"
   ]
  },
  {
   "cell_type": "code",
   "execution_count": null,
   "id": "e3977a37",
   "metadata": {},
   "outputs": [],
   "source": []
  }
 ],
 "metadata": {
  "kernelspec": {
   "display_name": "Python 3 (ipykernel)",
   "language": "python",
   "name": "python3"
  },
  "language_info": {
   "codemirror_mode": {
    "name": "ipython",
    "version": 3
   },
   "file_extension": ".py",
   "mimetype": "text/x-python",
   "name": "python",
   "nbconvert_exporter": "python",
   "pygments_lexer": "ipython3",
   "version": "3.11.4"
  }
 },
 "nbformat": 4,
 "nbformat_minor": 5
}
