{
 "cells": [
  {
   "cell_type": "markdown",
   "metadata": {},
   "source": [
    "# Read engineering design schedules uring OCR?\n",
    "\n",
    "https://huggingface.co/models?other=ocr\n",
    "\n",
    "CONCLUSION - prob the best way to do it in the long run but big time investment cuz idk much about it...too many unknowns for current timeline"
   ]
  },
  {
   "cell_type": "code",
   "execution_count": null,
   "metadata": {},
   "outputs": [],
   "source": [
    "import fitz\n",
    "import io\n",
    "from pathlib import Path"
   ]
  },
  {
   "cell_type": "code",
   "execution_count": null,
   "metadata": {},
   "outputs": [],
   "source": [
    "test_data_dir = Path('../../_test_data/')"
   ]
  },
  {
   "cell_type": "code",
   "execution_count": null,
   "metadata": {},
   "outputs": [],
   "source": [
    "# get pdf page with schedules as image\n",
    "scale_factor = 2.0\n",
    "with fitz.open(str(test_data_dir / 'engineering_design_drawings.pdf')) as doc:\n",
    "    mat = fitz.Matrix(scale_factor, scale_factor)\n",
    "    page = doc[33]\n",
    "    page.get_pixmap(matrix=mat)\n",
    "    pix = page.get_pixmap()\n",
    "    img_data = pix.tobytes()\n",
    "    img = Image.open(io.BytesIO(img_data))\n",
    "    img.save(str( test_data_dir / \"eds_page_33.png\"))\n",
    "\n",
    "    page = doc[34]\n",
    "    page.get_pixmap(matrix=mat)\n",
    "    pix = page.get_pixmap()\n",
    "    img_data = pix.tobytes()\n",
    "    img = Image.open(io.BytesIO(img_data))\n",
    "    img.save(str( test_data_dir / \"eds_page_34.png\"))"
   ]
  },
  {
   "cell_type": "code",
   "execution_count": null,
   "metadata": {},
   "outputs": [],
   "source": [
    "!poetry add --group eval ultralyticsplus==0.0.23 ultralytics==8.0.21"
   ]
  },
  {
   "cell_type": "code",
   "execution_count": null,
   "metadata": {},
   "outputs": [],
   "source": [
    "# run ocr on the image\n",
    "# https://huggingface.co/keremberke/yolov8m-table-extraction\n",
    "from ultralyticsplus import YOLO, render_result"
   ]
  },
  {
   "cell_type": "code",
   "execution_count": null,
   "metadata": {},
   "outputs": [],
   "source": [
    "# load model\n",
    "model = YOLO('keremberke/yolov8m-table-extraction')\n",
    "\n",
    "# set model parameters\n",
    "model.overrides['conf'] = 0.25  # NMS confidence threshold\n",
    "model.overrides['iou'] = 0.45  # NMS IoU threshold\n",
    "model.overrides['agnostic_nms'] = False  # NMS class-agnostic\n",
    "model.overrides['max_det'] = 1000  # maximum number of detections per image"
   ]
  },
  {
   "cell_type": "code",
   "execution_count": null,
   "metadata": {},
   "outputs": [],
   "source": [
    "# set image\n",
    "default_image = 'https://github.com/ultralytics/yolov5/raw/master/data/images/zidane.jpg'\n",
    "p33_image = \"\"\n",
    "p34_image = \"\""
   ]
  },
  {
   "cell_type": "code",
   "execution_count": null,
   "metadata": {},
   "outputs": [],
   "source": [
    "image = default_image\n",
    "\n",
    "# perform inference\n",
    "results = model.predict(image)"
   ]
  },
  {
   "cell_type": "code",
   "execution_count": null,
   "metadata": {},
   "outputs": [],
   "source": [
    "# observe results\n",
    "print(results[0].boxes)\n",
    "render = render_result(model=model, image=image, result=results[0])\n",
    "render.show()"
   ]
  }
 ],
 "metadata": {
  "kernelspec": {
   "display_name": "meche-copilot-py-env",
   "language": "python",
   "name": "python3"
  },
  "language_info": {
   "codemirror_mode": {
    "name": "ipython",
    "version": 3
   },
   "file_extension": ".py",
   "mimetype": "text/x-python",
   "name": "python",
   "nbconvert_exporter": "python",
   "pygments_lexer": "ipython3",
   "version": "3.11.4"
  }
 },
 "nbformat": 4,
 "nbformat_minor": 2
}
