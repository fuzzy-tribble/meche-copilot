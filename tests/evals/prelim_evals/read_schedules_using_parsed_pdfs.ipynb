{
 "cells": [
  {
   "cell_type": "markdown",
   "metadata": {},
   "source": [
    "# Read engineering design schedules using parsed pdfs?\n",
    "\n",
    "CONCLUSION - will try this way first and dive into ocr later\n",
    "\n",
    "NOTE: downside is that pdfs have many different encodings and structures depending on how the data was built and with what software so what works in a demo may not work across the board whereas ocr while bigger time investment would work more reliably across the board"
   ]
  },
  {
   "cell_type": "code",
   "execution_count": null,
   "metadata": {},
   "outputs": [],
   "source": [
    "import fitz\n",
    "from pathlib import Path\n",
    "import json"
   ]
  },
  {
   "cell_type": "code",
   "execution_count": null,
   "metadata": {},
   "outputs": [],
   "source": [
    "fpath = Path('../../_test_data/engineering_design_drawings.pdf')\n",
    "fpath.exists()"
   ]
  },
  {
   "cell_type": "code",
   "execution_count": null,
   "metadata": {},
   "outputs": [],
   "source": [
    "page_text_blocks = {}\n",
    "with fitz.open(str(fpath)) as doc:\n",
    "    for p in doc:\n",
    "        blocks = p.get_text_blocks()\n",
    "        text = [b[4] for b in blocks]\n",
    "        page_text_blocks[p.number] = text"
   ]
  },
  {
   "cell_type": "code",
   "execution_count": null,
   "metadata": {},
   "outputs": [],
   "source": [
    "page_text_blocks[34]"
   ]
  },
  {
   "cell_type": "code",
   "execution_count": null,
   "metadata": {},
   "outputs": [],
   "source": [
    "# print the schedule and the next 10 blocks of text\n",
    "include_blocks_after = 10\n",
    "text_to_find = \"EXHAUST FAN SCHEDULE\"\n",
    "# text_to_find = \"HYDRONIC PUMP SCHEDULE\"\n",
    "for i, text in enumerate(page_text_blocks[34]):\n",
    "    if text_to_find in text:\n",
    "        print(text)\n",
    "        for j in range(i, i + include_blocks_after):\n",
    "            try:\n",
    "                print(page_text_blocks[34][j])\n",
    "            except IndexError:\n",
    "                pass"
   ]
  },
  {
   "cell_type": "code",
   "execution_count": null,
   "metadata": {},
   "outputs": [],
   "source": [
    "# print the schedule and the next 10 blocks of text\n",
    "include_blocks_after = 10\n",
    "text_to_find = \"ENERGY RECOVERY VENTILATOR SCHEDULE (CONT...) (ALTERNATE)\"\n",
    "# text_to_find = \"ENERGY RECOVERY VENTILATOR SCHEDULE (ALTERNATE)\"\n",
    "for i, text in enumerate(page_text_blocks[33]):\n",
    "    if text_to_find in text:\n",
    "        print(text)\n",
    "        for j in range(i, i + include_blocks_after):\n",
    "            try:\n",
    "                print(page_text_blocks[33][j])\n",
    "            except IndexError:\n",
    "                pass"
   ]
  },
  {
   "cell_type": "code",
   "execution_count": null,
   "metadata": {},
   "outputs": [],
   "source": []
  }
 ],
 "metadata": {
  "kernelspec": {
   "display_name": "meche-copilot-py-env",
   "language": "python",
   "name": "python3"
  },
  "language_info": {
   "codemirror_mode": {
    "name": "ipython",
    "version": 3
   },
   "file_extension": ".py",
   "mimetype": "text/x-python",
   "name": "python",
   "nbconvert_exporter": "python",
   "pygments_lexer": "ipython3",
   "version": "3.11.4"
  }
 },
 "nbformat": 4,
 "nbformat_minor": 2
}
