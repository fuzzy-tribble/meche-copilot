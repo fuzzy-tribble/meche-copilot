{
 "cells": [
  {
   "cell_type": "markdown",
   "metadata": {},
   "source": [
    "# Read contractor submittals using parsed pdfs?\n",
    "\n",
    "CONCLUSION - same as schedules (but simpler because tables aren't complicated)"
   ]
  },
  {
   "cell_type": "code",
   "execution_count": 1,
   "metadata": {},
   "outputs": [],
   "source": [
    "import fitz\n",
    "from pathlib import Path\n",
    "import json"
   ]
  },
  {
   "cell_type": "code",
   "execution_count": 3,
   "metadata": {},
   "outputs": [
    {
     "data": {
      "text/plain": [
       "True"
      ]
     },
     "execution_count": 3,
     "metadata": {},
     "output_type": "execute_result"
    }
   ],
   "source": [
    "fpath = Path('../../_test_data/Submittal_Fans.pdf')\n",
    "fpath.exists()"
   ]
  },
  {
   "cell_type": "code",
   "execution_count": 5,
   "metadata": {},
   "outputs": [],
   "source": [
    "page_text_blocks = {}\n",
    "with fitz.open(str(fpath)) as doc:\n",
    "    for p in doc:\n",
    "        blocks = p.get_text_blocks()\n",
    "        text = [b[4] for b in blocks]\n",
    "        page_text_blocks[p.number] = text"
   ]
  },
  {
   "cell_type": "code",
   "execution_count": 6,
   "metadata": {},
   "outputs": [
    {
     "data": {
      "text/plain": [
       "['<image: Indexed(15,DeviceRGB), width: 599, height: 169, bpc: 4>',\n",
       " 'MARK: EF-1\\n',\n",
       " 'PROJECT: 165913 CANOE CREEK K-8\\n',\n",
       " 'DATE: 11/11/2020\\n',\n",
       " 'A\\nCB\\n',\n",
       " 'A\\nD\\n',\n",
       " 'E Max.\\n',\n",
       " 'Inlet View\\nDischarge View\\n',\n",
       " 'A\\n',\n",
       " 'A\\n',\n",
       " 'OD\\n',\n",
       " 'OD\\n',\n",
       " 'OD\\n',\n",
       " 'OD\\nSq.\\n',\n",
       " 'SQN-B\\n',\n",
       " 'Centrifugal Square Inline\\nBelt Drive\\n',\n",
       " 'STANDARD CONSTRUCTION FEATURES:\\nAll aluminum wheel - Galvanized steel housing - Three\\nremovable access doors - Closed cell neoprene gasketing -\\nInlet and discharge duct collars - Universal mounting feet -\\nRegreasable bearings in a cast housing rated at 200,000\\nhours average life - Permanently lubricated ball bearing\\nmotor - Adjustable pitch drives through 5 HP - All fans\\nfactory adjusted to specified fan RPM - Transit tested\\npackaging.\\n',\n",
       " 'Qty\\nCatalog\\nNumber\\nFlow\\n(CFM)\\nSP\\n(inwc)\\nFan\\nRPM\\nPower*\\n(HP)\\nFEG\\n',\n",
       " '1\\n80SQN-B\\n500\\n.375\\n1552\\n.119\\nn/a(<1HP)\\n',\n",
       " 'Performance (*Bhp includes 18% drive loss)\\n',\n",
       " 'HP RPM Volts/Ph/Hz Enclosure FLA Mounted\\n',\n",
       " '1/6 1725\\n115/1/60\\nODP   -SE\\n4.4\\nYes\\n',\n",
       " 'Motor Information\\n',\n",
       " '1\\n2\\n3\\n4\\n5\\n6\\n7\\n8\\nLwA dBA Sones\\n',\n",
       " 'Inlet\\n65 65 68 63 58 53 48 42\\n65\\n53\\n6.5\\n',\n",
       " 'Outlet 82 76 68 65 63 60 53 44\\n69\\n57\\n8.9\\n',\n",
       " 'Sound Data  Sound Power by Octave Band\\n',\n",
       " 'v7.3.347.14855  K:\\\\Jobs\\\\Howard Fox\\\\\\n',\n",
       " 'Accessories:\\nDRIVES (1.5 SF) @  1552 RPM\\nDISCONNECT NEMA 1\\nOSHA GUARD/MTR COVER\\nSC-70 SET(4) - ISOLATORS\\nALL ALUMINUM CONSTRUCTION\\n',\n",
       " 'A\\n12\\n',\n",
       " 'B\\n20\\n',\n",
       " 'C\\n22\\n',\n",
       " 'D\\n14\\n',\n",
       " 'E\\n12-1/2\\n',\n",
       " 'Weight(lbs)***\\nShipping 116 Unit 51\\n',\n",
       " 'NOTE: Accessories may affect dimensions shown.\\n',\n",
       " 'Dimensions  (inches)\\n',\n",
       " '***Includes fan, motor & accessories.\\n',\n",
       " '0.00\\n',\n",
       " '0.20\\n',\n",
       " '0.40\\n',\n",
       " '0.60\\n',\n",
       " '0.80\\n',\n",
       " '1.00\\n',\n",
       " '0.00\\n',\n",
       " '.025\\n',\n",
       " '.050\\n',\n",
       " '.075\\n',\n",
       " '.100\\n',\n",
       " '.125\\n',\n",
       " '0\\n150\\n300\\n450\\n600\\n750\\nFlow (CFM)\\n',\n",
       " 'SP (inwc)\\n',\n",
       " 'Power (HP)\\n',\n",
       " 'Fan Curve\\n',\n",
       " 'Fan Curve Legend\\nCFM  vs SP\\nCFM  vs HP\\nPoint of Operation\\nSystem Curve\\n',\n",
       " '<image: DeviceRGB, width: 155, height: 255, bpc: 8>',\n",
       " '<image: Indexed(245,DeviceRGB), width: 140, height: 85, bpc: 8>',\n",
       " 'Altitude (ft): 39   Temperature (F): 70\\n',\n",
       " 'FLA based on NEC (2017) Table 430.248\\n']"
      ]
     },
     "execution_count": 6,
     "metadata": {},
     "output_type": "execute_result"
    }
   ],
   "source": [
    "page_text_blocks[3]"
   ]
  },
  {
   "cell_type": "code",
   "execution_count": null,
   "metadata": {},
   "outputs": [],
   "source": []
  }
 ],
 "metadata": {
  "kernelspec": {
   "display_name": "meche-copilot-py-env",
   "language": "python",
   "name": "python3"
  },
  "language_info": {
   "codemirror_mode": {
    "name": "ipython",
    "version": 3
   },
   "file_extension": ".py",
   "mimetype": "text/x-python",
   "name": "python",
   "nbconvert_exporter": "python",
   "pygments_lexer": "ipython3",
   "version": "3.11.4"
  },
  "orig_nbformat": 4
 },
 "nbformat": 4,
 "nbformat_minor": 2
}
