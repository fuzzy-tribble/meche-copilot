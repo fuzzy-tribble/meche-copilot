{
 "cells": [
  {
   "cell_type": "markdown",
   "metadata": {},
   "source": [
    "# AnalyzeSpecsChain LLM Eval"
   ]
  },
  {
   "cell_type": "markdown",
   "metadata": {},
   "source": [
    "## Run the chain"
   ]
  },
  {
   "cell_type": "code",
   "execution_count": null,
   "metadata": {},
   "outputs": [],
   "source": [
    "from meche_copilot.schemas import *\n",
    "from meche_copilot.chains.read_design_chain import ReadDesignChain\n",
    "from meche_copilot.chains.read_submittal_chain import ReadSubmittalChain\n",
    "from meche_copilot.chains.analyze_specs_chain import AnalyzeSpecsChain\n",
    "from meche_copilot.utils.config import load_config, find_config\n",
    "from langchain.callbacks import StdOutCallbackHandler"
   ]
  },
  {
   "cell_type": "code",
   "execution_count": null,
   "metadata": {},
   "outputs": [],
   "source": [
    "config = SessionConfig.from_yaml(find_config('session-config.yaml'))\n",
    "sess = Session.from_config(config=config)"
   ]
  },
  {
   "cell_type": "code",
   "execution_count": null,
   "metadata": {},
   "outputs": [],
   "source": [
    "# run read design chain\n",
    "read_design_chain = ReadDesignChain()\n",
    "eqs_with_design_data = read_design_chain({'equipments': sess.equipments})"
   ]
  },
  {
   "cell_type": "code",
   "execution_count": null,
   "metadata": {},
   "outputs": [],
   "source": [
    "# run read submittal chain\n",
    "read_submittal_chain = ReadSubmittalChain()\n",
    "eqs_with_submittal_data = read_submittal_chain({'equipments': eqs_with_design_data})"
   ]
  },
  {
   "cell_type": "code",
   "execution_count": null,
   "metadata": {},
   "outputs": [],
   "source": [
    "# run analyze specs chain\n",
    "analyze_specs_chain = AnalyzeSpecsChain()"
   ]
  },
  {
   "cell_type": "code",
   "execution_count": null,
   "metadata": {},
   "outputs": [],
   "source": [
    "analyze_specs_chain.get_spec_results_for_eq_instance()"
   ]
  },
  {
   "cell_type": "code",
   "execution_count": null,
   "metadata": {},
   "outputs": [],
   "source": [
    "analyze_specs_chain.analyze_spec_results_for_eq_instance()"
   ]
  },
  {
   "cell_type": "code",
   "execution_count": null,
   "metadata": {},
   "outputs": [],
   "source": [
    "eqs_with_analysis = analyze_specs_chain({'equipments': eqs_with_submittal_data})"
   ]
  }
 ],
 "metadata": {
  "kernelspec": {
   "display_name": ".venv",
   "language": "python",
   "name": "python3"
  },
  "language_info": {
   "name": "python",
   "version": "3.11.5"
  },
  "orig_nbformat": 4
 },
 "nbformat": 4,
 "nbformat_minor": 2
}
