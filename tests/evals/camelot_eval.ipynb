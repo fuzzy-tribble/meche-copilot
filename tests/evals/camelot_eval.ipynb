{
 "cells": [
  {
   "cell_type": "markdown",
   "metadata": {},
   "source": [
    "# How well can camelot extract engineering schedule tables from pdfs?"
   ]
  },
  {
   "cell_type": "code",
   "execution_count": 208,
   "metadata": {},
   "outputs": [
    {
     "name": "stdout",
     "output_type": "stream",
     "text": [
      "The autoreload extension is already loaded. To reload it, use:\n",
      "  %reload_ext autoreload\n"
     ]
    }
   ],
   "source": [
    "%load_ext autoreload\n",
    "%autoreload all"
   ]
  },
  {
   "cell_type": "code",
   "execution_count": 209,
   "metadata": {},
   "outputs": [],
   "source": [
    "import pandas as pd\n",
    "from meche_copilot.schemas import EngineeringDesignSchedule\n",
    "from meche_copilot.chains.helpers.mechanical_schedule_table_to_df import mechanical_schedule_table_to_df\n",
    "from meche_copilot.utils.converters import pydantic_from_jsonl\n",
    "from meche_copilot.utils.envars import DATA_CACHE"
   ]
  },
  {
   "cell_type": "code",
   "execution_count": null,
   "metadata": {},
   "outputs": [],
   "source": [
    "fpath = DATA_CACHE.parent / 'demo-01/engineering_design_drawings.pdf'\n",
    "design_schedules = pydantic_from_jsonl(DATA_CACHE / \"design_data\" / '5_scoped_design_schedules_with_column_labels.jsonl', EngineeringDesignSchedule)"
   ]
  },
  {
   "cell_type": "code",
   "execution_count": null,
   "metadata": {},
   "outputs": [],
   "source": [
    "sched_title = \"HYDRONIC PUMP SCHEDULE\"\n",
    "\n",
    "sched = next((sched for sched in design_schedules if sched.title == sched_title), None)\n",
    "\n",
    "assert sched is not None, f\"Could not find schedule with title: {sched_title}\"\n",
    "df = mechanical_schedule_table_to_df(pdf_fpath=fpath, title=sched_title, last_row=list(sched.row_data.keys())[-1], page_number=sched.page_number, show_your_work=True)\n",
    "df\n"
   ]
  },
  {
   "cell_type": "code",
   "execution_count": null,
   "metadata": {},
   "outputs": [],
   "source": [
    "sched_title = 'EXHAUST FAN SCHEDULE'\n",
    "\n",
    "sched = next((sched for sched in design_schedules if sched.title == sched_title), None)\n",
    "\n",
    "assert sched is not None, f\"Could not find schedule with title: {sched_title}\"\n",
    "df = mechanical_schedule_table_to_df(pdf_fpath=fpath, title=sched_title, last_row=list(sched.row_data.keys())[-1], page_number=sched.page_number, show_your_work=True)\n",
    "df\n"
   ]
  },
  {
   "cell_type": "code",
   "execution_count": null,
   "metadata": {},
   "outputs": [],
   "source": [
    "sched_title = 'ENERGY RECOVERY VENTILATOR SCHEDULE (ALTERNATE)'\n",
    "\n",
    "sched = next((sched for sched in design_schedules if sched.title == sched_title), None)\n",
    "\n",
    "assert sched is not None, f\"Could not find schedule with title: {sched_title}\"\n",
    "df = mechanical_schedule_table_to_df(pdf_fpath=fpath, title=sched_title, last_row=list(sched.row_data.keys())[-1], page_number=sched.page_number, show_your_work=True)\n",
    "df\n"
   ]
  },
  {
   "cell_type": "code",
   "execution_count": null,
   "metadata": {},
   "outputs": [],
   "source": [
    "sched_title = \"ENERGY RECOVERY VENTILATOR SCHEDULE (CONT...) (ALTERNATE)\"\n",
    "\n",
    "sched = next((sched for sched in design_schedules if sched.title == sched_title), None)\n",
    "\n",
    "assert sched is not None, f\"Could not find schedule with title: {sched_title}\"\n",
    "df = mechanical_schedule_table_to_df(pdf_fpath=fpath, title=sched_title, last_row=list(sched.row_data.keys())[-1], page_number=sched.page_number, show_your_work=True)\n",
    "df\n"
   ]
  }
 ],
 "metadata": {
  "kernelspec": {
   "display_name": "meche-copilot-py-env",
   "language": "python",
   "name": "python3"
  },
  "language_info": {
   "codemirror_mode": {
    "name": "ipython",
    "version": 3
   },
   "file_extension": ".py",
   "mimetype": "text/x-python",
   "name": "python",
   "nbconvert_exporter": "python",
   "pygments_lexer": "ipython3",
   "version": "3.11.4"
  },
  "orig_nbformat": 4
 },
 "nbformat": 4,
 "nbformat_minor": 2
}
